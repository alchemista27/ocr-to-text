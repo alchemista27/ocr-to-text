{
 "cells": [
  {
   "cell_type": "code",
   "execution_count": 1,
   "id": "b092435f",
   "metadata": {},
   "outputs": [],
   "source": [
    "# Import libraries\n",
    "import os\n",
    "from pdf2image import convert_from_path\n",
    "import pytesseract as pt"
   ]
  },
  {
   "cell_type": "code",
   "execution_count": 2,
   "id": "503428ae",
   "metadata": {},
   "outputs": [
    {
     "name": "stdout",
     "output_type": "stream",
     "text": [
      "72306\n"
     ]
    }
   ],
   "source": [
    "# Setting up input and output path\n",
    "input_path = '/home/alchemista/local-drive/folder-target-pekerjaan'\n",
    "output_path = '/home/alchemista/local-drive/hasil-pekerjaan'\n",
    "\n",
    "# Make list of files in input path\n",
    "files = os.listdir(input_path)\n",
    "print(len(files))"
   ]
  },
  {
   "cell_type": "code",
   "execution_count": null,
   "id": "5948a283",
   "metadata": {},
   "outputs": [],
   "source": []
  }
 ],
 "metadata": {
  "kernelspec": {
   "display_name": "base",
   "language": "python",
   "name": "python3"
  },
  "language_info": {
   "codemirror_mode": {
    "name": "ipython",
    "version": 3
   },
   "file_extension": ".py",
   "mimetype": "text/x-python",
   "name": "python",
   "nbconvert_exporter": "python",
   "pygments_lexer": "ipython3",
   "version": "3.13.5"
  }
 },
 "nbformat": 4,
 "nbformat_minor": 5
}
