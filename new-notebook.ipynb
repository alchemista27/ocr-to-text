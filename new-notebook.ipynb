{
 "cells": [
  {
   "cell_type": "code",
   "execution_count": 3,
   "id": "f9910db2",
   "metadata": {},
   "outputs": [
    {
     "ename": "KeyboardInterrupt",
     "evalue": "",
     "output_type": "error",
     "traceback": [
      "\u001b[0;31m---------------------------------------------------------------------------\u001b[0m",
      "\u001b[0;31mKeyboardInterrupt\u001b[0m                         Traceback (most recent call last)",
      "Cell \u001b[0;32mIn[3], line 23\u001b[0m\n\u001b[1;32m     16\u001b[0m os\u001b[38;5;241m.\u001b[39mmakedirs(OUTPUT_PATH, exist_ok\u001b[38;5;241m=\u001b[39m\u001b[38;5;28;01mTrue\u001b[39;00m)\n\u001b[1;32m     18\u001b[0m \u001b[38;5;66;03m# Ambil semua file PDF yang valid\u001b[39;00m\n\u001b[1;32m     19\u001b[0m file_list \u001b[38;5;241m=\u001b[39m \u001b[38;5;28msorted\u001b[39m([\n\u001b[1;32m     20\u001b[0m     f \u001b[38;5;28;01mfor\u001b[39;00m f \u001b[38;5;129;01min\u001b[39;00m os\u001b[38;5;241m.\u001b[39mlistdir(INPUT_PATH)\n\u001b[1;32m     21\u001b[0m     \u001b[38;5;28;01mif\u001b[39;00m f\u001b[38;5;241m.\u001b[39mlower()\u001b[38;5;241m.\u001b[39mendswith(\u001b[38;5;124m\"\u001b[39m\u001b[38;5;124m.pdf\u001b[39m\u001b[38;5;124m\"\u001b[39m)\n\u001b[1;32m     22\u001b[0m     \u001b[38;5;129;01mand\u001b[39;00m \u001b[38;5;129;01mnot\u001b[39;00m f\u001b[38;5;241m.\u001b[39mstartswith(\u001b[38;5;124m\"\u001b[39m\u001b[38;5;124m._\u001b[39m\u001b[38;5;124m\"\u001b[39m)  \u001b[38;5;66;03m# skip file macOS resource fork\u001b[39;00m\n\u001b[0;32m---> 23\u001b[0m     \u001b[38;5;129;01mand\u001b[39;00m os\u001b[38;5;241m.\u001b[39mpath\u001b[38;5;241m.\u001b[39mgetsize(os\u001b[38;5;241m.\u001b[39mpath\u001b[38;5;241m.\u001b[39mjoin(INPUT_PATH, f)) \u001b[38;5;241m>\u001b[39m \u001b[38;5;241m0\u001b[39m  \u001b[38;5;66;03m# skip file kosong\u001b[39;00m\n\u001b[1;32m     24\u001b[0m ])\n\u001b[1;32m     26\u001b[0m \u001b[38;5;28mprint\u001b[39m(\u001b[38;5;124mf\u001b[39m\u001b[38;5;124m\"\u001b[39m\u001b[38;5;124mTotal file PDF ditemukan: \u001b[39m\u001b[38;5;132;01m{\u001b[39;00m\u001b[38;5;28mlen\u001b[39m(file_list)\u001b[38;5;132;01m}\u001b[39;00m\u001b[38;5;124m\"\u001b[39m)\n\u001b[1;32m     28\u001b[0m \u001b[38;5;28;01mif\u001b[39;00m \u001b[38;5;129;01mnot\u001b[39;00m file_list:\n",
      "File \u001b[0;32m<frozen genericpath>:86\u001b[0m, in \u001b[0;36mgetsize\u001b[0;34m(filename)\u001b[0m\n",
      "\u001b[0;31mKeyboardInterrupt\u001b[0m: "
     ]
    }
   ],
   "source": [
    "\"\"\"\n",
    "OCR Processor Single File (pakai pytesseract)\n",
    "- Hanya memproses file PDF pertama di file_list (indeks 0)\n",
    "- Skip otomatis kalau file rusak atau output sudah ada\n",
    "\"\"\"\n",
    "\n",
    "import os\n",
    "from pdf2image import convert_from_path\n",
    "import pytesseract\n",
    "\n",
    "# === Setting path input/output ===\n",
    "INPUT_PATH = os.path.expanduser(\"~/local-drive/folder-target-pekerjaan\")\n",
    "OUTPUT_PATH = os.path.expanduser(\"~/local-drive/hasil-pekerjaan\")\n",
    "\n",
    "# Buat folder output kalau belum ada\n",
    "os.makedirs(OUTPUT_PATH, exist_ok=True)\n",
    "\n",
    "# Ambil semua file PDF yang valid\n",
    "file_list = sorted([\n",
    "    f for f in os.listdir(INPUT_PATH)\n",
    "    if f.lower().endswith(\".pdf\")\n",
    "    and not f.startswith(\"._\")  # skip file macOS resource fork\n",
    "    and os.path.getsize(os.path.join(INPUT_PATH, f)) > 0  # skip file kosong\n",
    "])\n",
    "\n",
    "print(f\"Total file PDF ditemukan: {len(file_list)}\")\n",
    "\n",
    "if not file_list:\n",
    "    print(\"❌ Tidak ada file PDF valid ditemukan\")\n",
    "else:\n",
    "    f = file_list[0]  # ambil file pertama (indeks 0)\n",
    "    file_name = os.path.join(INPUT_PATH, f)\n",
    "    output_file = os.path.join(OUTPUT_PATH, f'{f[:-4]}.txt')\n",
    "\n",
    "    # Skip kalau sudah ada hasilnya\n",
    "    if os.path.exists(output_file):\n",
    "        print(f\"⏭️ Skip (sudah ada): {f}\")\n",
    "    else:\n",
    "        print(f\"\\n🔄 Memproses file: {f}\")\n",
    "\n",
    "        try:\n",
    "            # Konversi PDF ke gambar\n",
    "            try:\n",
    "                pages = convert_from_path(file_name, dpi=300)\n",
    "            except Exception as e:\n",
    "                print(f\"⚠️ Skip {f} (bukan PDF valid / rusak): {e}\")\n",
    "                pages = []\n",
    "\n",
    "            all_text = []\n",
    "\n",
    "            # OCR per halaman\n",
    "            for page in pages:\n",
    "                text = pytesseract.image_to_string(page, lang=\"ind+eng\")\n",
    "                text = \" \".join(text.split())  # rapikan spasi\n",
    "                all_text.append(text)\n",
    "\n",
    "            if all_text:\n",
    "                # Simpan hasil ke .txt\n",
    "                with open(output_file, 'w', encoding='utf-8') as o:\n",
    "                    o.write(\"\\n\\n\".join(all_text))\n",
    "                print(f\"✅ Selesai: {f}\")\n",
    "            else:\n",
    "                print(f\"⚠️ Tidak ada teks diekstrak dari {f}\")\n",
    "\n",
    "        except Exception as e:\n",
    "            print(f\"❌ Error memproses {f}: {e}\")\n"
   ]
  },
  {
   "cell_type": "code",
   "execution_count": null,
   "id": "d95b5c41",
   "metadata": {},
   "outputs": [],
   "source": []
  }
 ],
 "metadata": {
  "kernelspec": {
   "display_name": "base",
   "language": "python",
   "name": "python3"
  },
  "language_info": {
   "codemirror_mode": {
    "name": "ipython",
    "version": 3
   },
   "file_extension": ".py",
   "mimetype": "text/x-python",
   "name": "python",
   "nbconvert_exporter": "python",
   "pygments_lexer": "ipython3",
   "version": "3.13.5"
  }
 },
 "nbformat": 4,
 "nbformat_minor": 5
}
