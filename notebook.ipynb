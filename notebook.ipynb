{
 "cells": [
  {
   "cell_type": "markdown",
   "id": "fcff4fb8",
   "metadata": {},
   "source": [
    "## Rekognisi Karakter OCR pada PDF\n",
    "Tujuan dari project ini adalah untuk mengubah konten dari pdf hasil scan hardcopy menjadi file text. Jumlah file yang harus dikonversi adalah 79 ribu file. Opsi pengerjaan dilakukan dengan menggunakan VPS dengan spesifikasi sebagai berikut:\n",
    "- RAM 12 GB\n",
    "- Processor Intel Xeon\n",
    "- SSD 60 GB\n",
    "- OS Ubuntu 22.04 LTS"
   ]
  },
  {
   "cell_type": "code",
   "execution_count": 3,
   "id": "87e7d656",
   "metadata": {},
   "outputs": [
    {
     "name": "stdout",
     "output_type": "stream",
     "text": [
      "72305\n",
      "['000918.16.2023w.pdf', '010593.16.2020w.pdf', '014528.27.2022w.pdf', '001824.47.2024w.pdf', '008588.16.2023w.pdf', '000914.16.2023w.pdf', '000923.16.2023w.pdf', '001237.16.2023w.pdf', '002103.16.2023w.pdf', '000915.16.2023w.pdf', '008581.16.2023w.pdf', 'PUTP1 005015.16.2022w.pdf', '000920.16.2023w.pdf', '008580.16.2023w.pdf', '001955.12.2023w.pdf', '000994.15.2020w.pdf', '000707.45.2024w.pdf', 'PUTP1 005638.15.2022w.pdf', '010386.25.2023w.pdf', '001951.25.2023w.pdf']\n"
     ]
    }
   ],
   "source": [
    "# Kumpulkan nama file dalam folder tugas dalam satu list\n",
    "import os\n",
    "\n",
    "## Setting up file path\n",
    "path = os.path.expanduser('~/local-drive/folder-target-pekerjaan')\n",
    "\n",
    "file_list = os.listdir(path)\n",
    "file_list = file_list[1:]\n",
    "print(len(file_list))\n",
    "print(file_list[:20])"
   ]
  },
  {
   "cell_type": "code",
   "execution_count": 5,
   "id": "48f2b348",
   "metadata": {},
   "outputs": [],
   "source": [
    "## Import libraries untuk OCR\n",
    "from pdf2image import convert_from_path\n",
    "import numpy as np\n",
    "import cv2\n",
    "import easyocr\n",
    "\n",
    "## Setting output path\n",
    "output = os.path.expanduser('~/local-drive/hasil-pekerjaan')"
   ]
  },
  {
   "cell_type": "code",
   "execution_count": 6,
   "id": "5648db47",
   "metadata": {},
   "outputs": [],
   "source": [
    "# Preparing the grayscale function\n",
    "def preprocessing(img):\n",
    "  gray = cv2.cvtColor(np.array(img), cv2.COLOR_RGB2BGR)\n",
    "  gray = cv2.cvtColor(gray, cv2.COLOR_BGR2GRAY)\n",
    "  gray = cv2.medianBlur(gray, 3)\n",
    "  gray = cv2.adaptiveThreshold(gray, 255,\n",
    "                               cv2.ADAPTIVE_THRESH_GAUSSIAN_C,\n",
    "                               cv2.THRESH_BINARY, 11, 2)\n",
    "  return gray"
   ]
  },
  {
   "cell_type": "code",
   "execution_count": 7,
   "id": "88553e72",
   "metadata": {},
   "outputs": [
    {
     "name": "stderr",
     "output_type": "stream",
     "text": [
      "Neither CUDA nor MPS are available - defaulting to CPU. Note: This module is much faster with a GPU.\n",
      "Downloading detection model, please wait. This may take several minutes depending upon your network connection.\n"
     ]
    },
    {
     "name": "stdout",
     "output_type": "stream",
     "text": [
      "Progress: |██████████████████████████████████████████████████| 100.0% Complete"
     ]
    },
    {
     "name": "stderr",
     "output_type": "stream",
     "text": [
      "Downloading recognition model, please wait. This may take several minutes depending upon your network connection.\n"
     ]
    },
    {
     "name": "stdout",
     "output_type": "stream",
     "text": [
      "Progress: |██████████████████████████████████████████████████| 100.0% Complete"
     ]
    }
   ],
   "source": [
    "# Setup reader\n",
    "reader = easyocr.Reader(['id', 'en'], gpu = False)"
   ]
  },
  {
   "cell_type": "code",
   "execution_count": null,
   "id": "605c403b",
   "metadata": {},
   "outputs": [
    {
     "name": "stdout",
     "output_type": "stream",
     "text": [
      "🔄 Memproses batch 0 - 499 (total 500 file)\n"
     ]
    },
    {
     "name": "stderr",
     "output_type": "stream",
     "text": [
      "/home/alchemista/anaconda3/lib/python3.13/site-packages/torch/utils/data/dataloader.py:666: UserWarning: 'pin_memory' argument is set as true but no accelerator is found, then device pinned memory won't be used.\n",
      "  warnings.warn(warn_msg)\n"
     ]
    }
   ],
   "source": [
    "# Definisikan batch_size\n",
    "batch_size = 500\n",
    "\n",
    "# loop per batch\n",
    "for batch_start in range(0, len(file_list), batch_size):\n",
    "    batch_end = batch_start + batch_size\n",
    "    batch_files = file_list[batch_start:batch_end]\n",
    "\n",
    "    print(f\"🔄 Memproses batch {batch_start} - {batch_end-1} \"\n",
    "          f\"(total {len(batch_files)} file)\")\n",
    "    \n",
    "    for f in batch_files:\n",
    "        file_name = os.path.join(path, f)\n",
    "        \n",
    "        pages = convert_from_path(file_name, dpi=300)\n",
    "        all_text = []\n",
    "        \n",
    "        # OCR for each Pages\n",
    "        for page in pages:\n",
    "            img = preprocessing(img=page)\n",
    "            result = reader.readtext(img, detail = 0)\n",
    "            \n",
    "            # gabungkan kata menjadi satu paragraf\n",
    "            text = \" \".join(result)\n",
    "            \n",
    "            # bersihkan spasi berlebih\n",
    "            text = \" \".join(text.split())\n",
    "            all_text.append(text)\n",
    "        output_file = os.path.join(output, f'{f[:-4]}.txt')\n",
    "        \n",
    "        with open(output_file, 'w', encoding='utf-8') as o:\n",
    "            o.write(\"\\n\\n\".join(all_text))"
   ]
  },
  {
   "cell_type": "code",
   "execution_count": null,
   "id": "51c858f9",
   "metadata": {},
   "outputs": [],
   "source": []
  }
 ],
 "metadata": {
  "kernelspec": {
   "display_name": "base",
   "language": "python",
   "name": "python3"
  },
  "language_info": {
   "codemirror_mode": {
    "name": "ipython",
    "version": 3
   },
   "file_extension": ".py",
   "mimetype": "text/x-python",
   "name": "python",
   "nbconvert_exporter": "python",
   "pygments_lexer": "ipython3",
   "version": "3.13.5"
  }
 },
 "nbformat": 4,
 "nbformat_minor": 5
}
