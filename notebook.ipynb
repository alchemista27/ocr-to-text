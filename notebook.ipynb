{
 "cells": [
  {
   "cell_type": "markdown",
   "id": "fcff4fb8",
   "metadata": {},
   "source": [
    "## Rekognisi Karakter OCR pada PDF\n",
    "Tujuan dari project ini adalah untuk mengubah konten dari pdf hasil scan hardcopy menjadi file text. Jumlah file yang harus dikonversi adalah 79 ribu file. Opsi pengerjaan dilakukan dengan menggunakan VPS dengan spesifikasi sebagai berikut:\n",
    "- RAM 12 GB\n",
    "- Processor Intel Xeon\n",
    "- SSD 60 GB\n",
    "- OS Ubuntu 22.04 LTS"
   ]
  },
  {
   "cell_type": "markdown",
   "id": "1181566b",
   "metadata": {},
   "source": []
  }
 ],
 "metadata": {
  "kernelspec": {
   "display_name": "base",
   "language": "python",
   "name": "python3"
  },
  "language_info": {
   "name": "python",
   "version": "3.13.5"
  }
 },
 "nbformat": 4,
 "nbformat_minor": 5
}
